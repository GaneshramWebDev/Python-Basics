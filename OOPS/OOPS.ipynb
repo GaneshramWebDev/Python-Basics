{
 "cells": [
  {
   "cell_type": "markdown",
   "id": "ee8dd91e",
   "metadata": {},
   "source": [
    "Object-oriented programming is a programming paradigm that is based on the concept of \"objects\", which can contain data and code that manipulates that data."
   ]
  },
  {
   "cell_type": "markdown",
   "id": "e8855d8b",
   "metadata": {},
   "source": [
    "A class is like a blueprint for creating objects."
   ]
  },
  {
   "cell_type": "markdown",
   "id": "cc42374e",
   "metadata": {},
   "source": [
    "An object is an instance (copy) of the class — like building a toy using the blueprint."
   ]
  },
  {
   "cell_type": "code",
   "execution_count": null,
   "id": "bd7f63cf",
   "metadata": {},
   "outputs": [],
   "source": [
    "## How to Create a Class in Python\n",
    "\n",
    "class person:\n",
    "    def greet(self):\n",
    "        print('Hello i m a person')"
   ]
  },
  {
   "cell_type": "code",
   "execution_count": null,
   "id": "6a149fba",
   "metadata": {},
   "outputs": [],
   "source": [
    "##Example with Instance Variables\n",
    "\n",
    "\n",
    "class person:\n",
    "    def __init__(self,name):\n",
    "        self.name=name\n",
    "\n",
    "    def greet(self):\n",
    "        print(\"hello! my name is\",self.name)\n",
    "\n",
    "#creating object\n",
    "\n",
    "p1=person(\"ganesh\")\n",
    "p1.greet()"
   ]
  },
  {
   "cell_type": "code",
   "execution_count": null,
   "id": "bba66cac",
   "metadata": {},
   "outputs": [],
   "source": [
    "##Another example\n",
    "\n",
    "class house:\n",
    "    def __init__(self,owner,color):\n",
    "        self.owner=owner\n",
    "        self.color=color\n",
    "\n",
    "    def show_details(self):\n",
    "        print(f\"This House belongs to '{self.owner}',and the house is painted in '{self.color}' \")\n",
    "\n",
    "\n",
    "my_house=house(\"ganesh\",\"white\")\n",
    "my_house.show_details()\n",
    "        "
   ]
  },
  {
   "cell_type": "code",
   "execution_count": null,
   "id": "9c5cad63",
   "metadata": {},
   "outputs": [],
   "source": [
    "##Example 2\n",
    "\n",
    "\n",
    "class animal:\n",
    "    def __init__(self,animal,age,sounds):\n",
    "        self.animal=animal\n",
    "        self.age=age\n",
    "        self.sounds=sounds\n",
    "\n",
    "    def sound(self):\n",
    "        print(f\"My pet is '{self.animal}' it '{self.sounds}' and it is '{self.age}' years old \")\n",
    "\n",
    "\n",
    "pet1=animal(\"cat\",5,\"Meows\")\n",
    "pet1.sound()\n",
    "\n",
    "pet2=animal(\"dog\",4,\"Woofs\")\n",
    "pet2.sound()\n",
    "    \n",
    "        \n"
   ]
  },
  {
   "cell_type": "code",
   "execution_count": null,
   "id": "5c5abed5",
   "metadata": {},
   "outputs": [],
   "source": [
    "##Modelling a Bank account\n",
    "\n",
    "class BankAccount:\n",
    "    def __init__(self,owner,balance=0):\n",
    "        self.owner=owner\n",
    "        self.balance=balance\n",
    "\n",
    "    def deposit(self,amount):\n",
    "        self.balance+=amount\n",
    "        print(f\"Amount of '{amount}' deposited successfully new balance is '{self.balance}' \")\n",
    "\n",
    "    def withdrawl(self,amount):\n",
    "        if amount>self.balance:\n",
    "            print(\"Insufficient amount in your bank account withdrawl failed try again later\")\n",
    "        else:\n",
    "            self.balance-=amount\n",
    "            print(f\"Amount of {amount} withdrawn successfully from your account remaining balance in yur account is '{self.balance}' \")\n",
    "        \n",
    "    def get_balance(self):\n",
    "        return self.balance\n",
    "    \n",
    "\n",
    "## creating an account\n",
    "\n",
    "account=BankAccount(\"Ganesh\",10000)\n",
    "\n",
    "account.deposit(2000)\n",
    "account.get_balance()\n",
    "\n",
    "account.withdrawl(2000)\n",
    "\n",
    "account.withdrawl(10000000)"
   ]
  },
  {
   "cell_type": "markdown",
   "id": "02379d6f",
   "metadata": {},
   "source": [
    "Inheritance in Python is a fundamental concept in object-oriented programming (OOP) that allows a class (child or derived class) to inherit attributes and methods from another class (parent or base class)"
   ]
  },
  {
   "cell_type": "markdown",
   "id": "1484d281",
   "metadata": {},
   "source": [
    "Single Inheritance\n"
   ]
  },
  {
   "cell_type": "code",
   "execution_count": 18,
   "id": "a3b1918f",
   "metadata": {},
   "outputs": [
    {
     "name": "stdout",
     "output_type": "stream",
     "text": [
      "The person name is 'Ganesh', and his/her hobby is 'cricket'\n",
      "The person name is 'Ganesh', and his/her hobby is 'cricket'\n",
      "The person name is 'Ganesh', his/her hobby is 'cricket', and his/her grade is '12th'\n"
     ]
    }
   ],
   "source": [
    "class Person:\n",
    "    def __init__(self, name, hobby):\n",
    "        self.name = name\n",
    "        self.hobby = hobby\n",
    "        print(f\"The person name is '{name}', and his/her hobby is '{hobby}'\")\n",
    "\n",
    "class Student(Person): \n",
    "    def __init__(self, name, hobby, grade):\n",
    "        super().__init__(name, hobby)  \n",
    "        self.grade = grade\n",
    "        print(f\"The person name is '{name}', his/her hobby is '{hobby}', and his/her grade is '{grade}'\")\n",
    "\n",
    "# Creating objects\n",
    "p1 = Person(\"Ganesh\", \"cricket\")\n",
    "p1 = Student(\"Ganesh\", \"cricket\", \"12th\")\n"
   ]
  },
  {
   "cell_type": "markdown",
   "id": "e16030e9",
   "metadata": {},
   "source": [
    "Multiple inhertance"
   ]
  },
  {
   "cell_type": "code",
   "execution_count": 19,
   "id": "c7a53c94",
   "metadata": {},
   "outputs": [
    {
     "name": "stdout",
     "output_type": "stream",
     "text": [
      "The person name is ganesh and the age is 22\n",
      "I m riding a car\n",
      "The person name is ganesh and the age is 22 and he is riding a car\n"
     ]
    }
   ],
   "source": [
    "class rider:\n",
    "    def __init__(self,owner,age):\n",
    "        self.owner=owner\n",
    "        self.age=age\n",
    "        print(f'The person name is {self.owner} and the age is {self.age}')\n",
    "\n",
    "class vechicle:\n",
    "    def __init__(self,vechicles):\n",
    "        self.vechicles=vechicles\n",
    "        print(f\"I m riding a {vechicles}\")\n",
    "\n",
    "class combine:\n",
    "    def __init__(self,owner,age,vechicles):\n",
    "        rider.__init__(self,owner,age)\n",
    "        vechicle.__init__(self,vechicles)\n",
    "        print(f'The person name is {self.owner} and the age is {self.age} and he is riding a {vechicles}')\n",
    "\n",
    "\n",
    "c1=combine(\"ganesh\",22,\"car\",)\n",
    "\n",
    "        "
   ]
  },
  {
   "cell_type": "markdown",
   "id": "9c886c1b",
   "metadata": {},
   "source": [
    "Polymorphism means \"many forms\".\n",
    "In Python OOP (Object-Oriented Programming), polymorphism lets you use the same method name or operator in different ways depending on the object or context."
   ]
  },
  {
   "cell_type": "code",
   "execution_count": 8,
   "id": "8dd6a56f",
   "metadata": {},
   "outputs": [
    {
     "name": "stdout",
     "output_type": "stream",
     "text": [
      "Woof!\n"
     ]
    }
   ],
   "source": [
    "##Method overiding\n",
    "\n",
    "\n",
    "class Animal:\n",
    "    def speak(self):\n",
    "        return \"Sound of an animal\"\n",
    "    \n",
    "class dog(Animal):\n",
    "    def speak(self):\n",
    "        return \"Woof!\"\n",
    "    \n",
    "class cat(Animal):\n",
    "    def speak(self):\n",
    "        return \"Meoww\"\n",
    "    \n",
    "def animal_sound(Animal):\n",
    "    print(Animal.speak())\n",
    "\n",
    "Dog=dog()\n",
    "animal_sound(Dog)\n",
    "    \n",
    "\n",
    "\n",
    "        "
   ]
  },
  {
   "cell_type": "code",
   "execution_count": 3,
   "id": "432462ad",
   "metadata": {},
   "outputs": [
    {
     "name": "stdout",
     "output_type": "stream",
     "text": [
      "the area is 20 \n",
      "the area is 78.5 \n"
     ]
    }
   ],
   "source": [
    "## Polymorphism with functions and methods\n",
    "\n",
    "class shape:\n",
    "    def area(self):\n",
    "        return \"The area of the self\"\n",
    "    \n",
    "    ##derived class 1\n",
    "class rectangle(shape):\n",
    "    def __init__(self,width,height):\n",
    "        self.width=width\n",
    "        self.height=height\n",
    "\n",
    "    def area(self):\n",
    "        return self.width * self.height\n",
    "        \n",
    "\n",
    "##derived class 2\n",
    "class circle(shape):\n",
    "    def __init__(self,radius):\n",
    "        self.radius=radius\n",
    "\n",
    "    def area(self):\n",
    "        return 3.14*self.radius *self.radius\n",
    "    \n",
    "\n",
    "##Function demonstarates polymorphism\n",
    "\n",
    "def calculate(shape):\n",
    "    print(f\"the area is {shape.area()} \")\n",
    "\n",
    "\n",
    "##Creating Objects\n",
    "\n",
    "\n",
    "rectangle_obj=rectangle(4,5)\n",
    "circle_obj=circle(5)\n",
    "\n",
    "\n",
    "calculate(rectangle_obj)\n",
    "calculate(circle_obj)\n"
   ]
  },
  {
   "cell_type": "markdown",
   "id": "23b18ab6",
   "metadata": {},
   "source": [
    "ABSTRACT BASE CLASS (ABC)\n"
   ]
  },
  {
   "cell_type": "code",
   "execution_count": 3,
   "id": "ada49d28",
   "metadata": {},
   "outputs": [
    {
     "name": "stdout",
     "output_type": "stream",
     "text": [
      "I own a motorbike. The name of the bike is Splendor and the engine is started.\n"
     ]
    }
   ],
   "source": [
    "from abc import ABC,abstractmethod\n",
    "\n",
    "class vechicle(ABC):\n",
    "    @abstractmethod\n",
    "    def start_engine(self):\n",
    "        pass\n",
    "        \n",
    "    \n",
    "##Derived class 1\n",
    "class car(vechicle):\n",
    "    def __init__(self,name):\n",
    "        self.name=name\n",
    "\n",
    "    def start_engine(self):\n",
    "        print(f\"my own a car the name of the car is {self.name} and the engine is started\")\n",
    "\n",
    "\n",
    "# Derived class 2\n",
    "class Motor(vechicle):\n",
    "    def __init__(self, name):\n",
    "        self.name = name\n",
    "\n",
    "    def start_engine(self):\n",
    "        print(f\"I own a motorbike. The name of the bike is {self.name} and the engine is started.\")\n",
    "\n",
    "\n",
    "##Function demonstarates polymorphism\n",
    "\n",
    "def run(vechicle):\n",
    "    vechicle.start_engine()\n",
    "\n",
    "\n",
    "##creating objects\n",
    "v1=Motor(\"Splendor\")\n",
    "\n",
    "run(v1)\n",
    "    \n"
   ]
  },
  {
   "cell_type": "code",
   "execution_count": 8,
   "id": "63a674bc",
   "metadata": {},
   "outputs": [
    {
     "name": "stdout",
     "output_type": "stream",
     "text": [
      "This is a hybrid car Toyota engine started using petrol and electric power 80KWH\n",
      "Motorbike splendor engine started using petrol\n",
      "This vechicle run is in \"petrol\"\n"
     ]
    }
   ],
   "source": [
    "##Example\n",
    "from abc import ABC,abstractmethod\n",
    "\n",
    "class vechicle(ABC):\n",
    "    @abstractmethod\n",
    "    def start_engine(self):\n",
    "        pass\n",
    "\n",
    "class fuel_System:\n",
    "    def __init__(self,fueltype):\n",
    "        self.fueltype=fueltype\n",
    "    \n",
    "    def fuel_info(self):\n",
    "        print(f'This vechicle run is in \"{self.fueltype}\"')\n",
    "\n",
    "class electric_system:\n",
    "    def __init__(self,battery_capacity):\n",
    "        self.battery_capacity=battery_capacity\n",
    "\n",
    "\n",
    "    def electric_info(self):\n",
    "        print(f\"This is a electric car type and it as a battery capicity of {self.battery_capacity} \")\n",
    "\n",
    "\n",
    "class hybird_system(vechicle,fuel_System,electric_system):\n",
    "    def __init__(self,name,fueltype,battery_capacity):\n",
    "        self.name=name\n",
    "        fuel_System.__init__(self,fueltype)\n",
    "        electric_system.__init__(self,battery_capacity)\n",
    "\n",
    "    def start_engine(self):\n",
    "        print(f\"This is a hybrid car {self.name} engine started using {self.fueltype} and electric power {self.battery_capacity}\")\n",
    "\n",
    "class motor(vechicle,fuel_System):\n",
    "    def __init__(self,name,fueltype):\n",
    "        self.name=name\n",
    "        fuel_System.__init__(self,fueltype)\n",
    "\n",
    "    def start_engine(self):\n",
    "        print(f\"Motorbike {self.name} engine started using {self.fueltype}\")\n",
    "\n",
    "##polymorphism function\n",
    "\n",
    "def run(vechicle):\n",
    "    vechicle.start_engine()\n",
    "\n",
    "##Creating objects\n",
    "\n",
    "e1=hybird_system('Toyota',\"petrol\",\"80KWH\")\n",
    "run(e1)\n",
    "\n",
    "v1=motor(\"splendor\",\"petrol\")\n",
    "run(v1)\n",
    "\n",
    "v1.fuel_info()"
   ]
  },
  {
   "cell_type": "markdown",
   "id": "5a4ede21",
   "metadata": {},
   "source": [
    "Encapsulation is one of the four pillars of Object-Oriented Programming (OOP). It is the process of binding data (variables) and methods (functions) into a single unit (a class), and restricting direct access to some of the object's components.\n",
    "\n",
    "🎯 Purpose of Encapsulation:\n",
    "Hide internal details from outside\n",
    "\n",
    "Control how data is accessed or modified\n",
    "\n",
    "Improve security and maintainability\n",
    "\n"
   ]
  },
  {
   "cell_type": "code",
   "execution_count": 11,
   "id": "ad9bacb2",
   "metadata": {},
   "outputs": [
    {
     "name": "stdout",
     "output_type": "stream",
     "text": [
      "Ganesh\n",
      "ram\n"
     ]
    }
   ],
   "source": [
    "# Public example (No Encapsulation)\n",
    "\n",
    "class student:\n",
    "    def __init__(self,name):\n",
    "        self.name=name\n",
    "\n",
    "s=student(\"Ganesh\")\n",
    "print(s.name)\n",
    "\n",
    "s.name=\"ram\"\n",
    "print(s.name)\n"
   ]
  },
  {
   "cell_type": "code",
   "execution_count": null,
   "id": "20fe91b8",
   "metadata": {},
   "outputs": [
    {
     "data": {
      "text/plain": [
       "['__class__',\n",
       " '__delattr__',\n",
       " '__dict__',\n",
       " '__dir__',\n",
       " '__doc__',\n",
       " '__eq__',\n",
       " '__format__',\n",
       " '__ge__',\n",
       " '__getattribute__',\n",
       " '__getstate__',\n",
       " '__gt__',\n",
       " '__hash__',\n",
       " '__init__',\n",
       " '__init_subclass__',\n",
       " '__le__',\n",
       " '__lt__',\n",
       " '__module__',\n",
       " '__ne__',\n",
       " '__new__',\n",
       " '__reduce__',\n",
       " '__reduce_ex__',\n",
       " '__repr__',\n",
       " '__setattr__',\n",
       " '__sizeof__',\n",
       " '__str__',\n",
       " '__subclasshook__',\n",
       " '__weakref__']"
      ]
     },
     "execution_count": 14,
     "metadata": {},
     "output_type": "execute_result"
    }
   ],
   "source": [
    "##private example (Encapusulation)\n",
    "\n",
    "class BankAccount:\n",
    "    def __init__(self,balance):\n",
    "        self.__balance=balance ##private variable\n",
    "\n",
    "\n",
    "a=BankAccount(1000)\n",
    "dir(BankAccount)\n",
    "print(a.__balance) ##Not accessible"
   ]
  },
  {
   "cell_type": "markdown",
   "id": "a99cb7a1",
   "metadata": {},
   "source": [
    "Getters are special methods used to access data of a private class safely\n",
    "setters is to update the data o a private class"
   ]
  },
  {
   "cell_type": "code",
   "execution_count": 25,
   "id": "37098459",
   "metadata": {},
   "outputs": [
    {
     "name": "stdout",
     "output_type": "stream",
     "text": [
      "20000\n",
      "3000000\n"
     ]
    }
   ],
   "source": [
    "class BankAccounts:\n",
    "    def __init__(self,balance):\n",
    "        self.__balance=balance\n",
    "\n",
    "    def get_balance(self):\n",
    "        return self.__balance\n",
    "    \n",
    "\n",
    "    def set_balance(self,amount):\n",
    "        if amount>0:\n",
    "            self.__balance=amount\n",
    "        else:\n",
    "            print(\"Invalid amount\")\n",
    "\n",
    "person2=BankAccounts(20000)\n",
    "\n",
    "print(person2.get_balance())\n",
    "\n",
    "person2.set_balance(3000000)\n",
    "print(person2.get_balance())"
   ]
  }
 ],
 "metadata": {
  "kernelspec": {
   "display_name": "Python 3",
   "language": "python",
   "name": "python3"
  },
  "language_info": {
   "codemirror_mode": {
    "name": "ipython",
    "version": 3
   },
   "file_extension": ".py",
   "mimetype": "text/x-python",
   "name": "python",
   "nbconvert_exporter": "python",
   "pygments_lexer": "ipython3",
   "version": "3.12.0"
  }
 },
 "nbformat": 4,
 "nbformat_minor": 5
}
