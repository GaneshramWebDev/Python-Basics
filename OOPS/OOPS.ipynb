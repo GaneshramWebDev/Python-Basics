{
 "cells": [
  {
   "cell_type": "markdown",
   "id": "ee8dd91e",
   "metadata": {},
   "source": [
    "Object-oriented programming is a programming paradigm that is based on the concept of \"objects\", which can contain data and code that manipulates that data."
   ]
  },
  {
   "cell_type": "markdown",
   "id": "e8855d8b",
   "metadata": {},
   "source": [
    "A class is like a blueprint for creating objects."
   ]
  },
  {
   "cell_type": "markdown",
   "id": "cc42374e",
   "metadata": {},
   "source": [
    "An object is an instance (copy) of the class — like building a toy using the blueprint."
   ]
  },
  {
   "cell_type": "code",
   "execution_count": null,
   "id": "bd7f63cf",
   "metadata": {},
   "outputs": [],
   "source": [
    "## How to Create a Class in Python\n",
    "\n",
    "class person:\n",
    "    def greet(self):\n",
    "        print('Hello i m a person')"
   ]
  },
  {
   "cell_type": "code",
   "execution_count": 1,
   "id": "6a149fba",
   "metadata": {},
   "outputs": [
    {
     "name": "stdout",
     "output_type": "stream",
     "text": [
      "hello! my name is ganesh\n"
     ]
    }
   ],
   "source": [
    "##Example with Instance Variables\n",
    "\n",
    "\n",
    "class person:\n",
    "    def __init__(self,name):\n",
    "        self.name=name\n",
    "\n",
    "    def greet(self):\n",
    "        print(\"hello! my name is\",self.name)\n",
    "\n",
    "#creating object\n",
    "\n",
    "p1=person(\"ganesh\")\n",
    "p1.greet()"
   ]
  },
  {
   "cell_type": "code",
   "execution_count": null,
   "id": "bba66cac",
   "metadata": {},
   "outputs": [
    {
     "name": "stdout",
     "output_type": "stream",
     "text": [
      "this house belongs to 'ganesh',and the house is painted in 'white' \n"
     ]
    }
   ],
   "source": [
    "##Another example\n",
    "\n",
    "class house:\n",
    "    def __init__(self,owner,color):\n",
    "        self.owner=owner\n",
    "        self.color=color\n",
    "\n",
    "    def show_details(self):\n",
    "        print(f\"This House belongs to '{self.owner}',and the house is painted in '{self.color}' \")\n",
    "\n",
    "\n",
    "my_house=house(\"ganesh\",\"white\")\n",
    "my_house.show_details()\n",
    "        "
   ]
  },
  {
   "cell_type": "code",
   "execution_count": 4,
   "id": "9c5cad63",
   "metadata": {},
   "outputs": [
    {
     "name": "stdout",
     "output_type": "stream",
     "text": [
      "My pet is 'cat' it 'Meows' and it is '5' years old \n",
      "My pet is 'dog' it 'Woofs' and it is '4' years old \n"
     ]
    }
   ],
   "source": [
    "##Example 2\n",
    "\n",
    "\n",
    "class animal:\n",
    "    def __init__(self,animal,age,sounds):\n",
    "        self.animal=animal\n",
    "        self.age=age\n",
    "        self.sounds=sounds\n",
    "\n",
    "    def sound(self):\n",
    "        print(f\"My pet is '{self.animal}' it '{self.sounds}' and it is '{self.age}' years old \")\n",
    "\n",
    "\n",
    "pet1=animal(\"cat\",5,\"Meows\")\n",
    "pet1.sound()\n",
    "\n",
    "pet2=animal(\"dog\",4,\"Woofs\")\n",
    "pet2.sound()\n",
    "    \n",
    "        \n"
   ]
  },
  {
   "cell_type": "code",
   "execution_count": 11,
   "id": "5c5abed5",
   "metadata": {},
   "outputs": [
    {
     "name": "stdout",
     "output_type": "stream",
     "text": [
      "Amount of '2000' deposited successfully new balance is '12000' \n",
      "Amount of 2000 withdrawn successfully from your account remaining balance in yur account is '10000' \n",
      "Insufficient amount in your bank account withdrawl failed try again later\n"
     ]
    }
   ],
   "source": [
    "##Modelling a Bank account\n",
    "\n",
    "class BankAccount:\n",
    "    def __init__(self,owner,balance=0):\n",
    "        self.owner=owner\n",
    "        self.balance=balance\n",
    "\n",
    "    def deposit(self,amount):\n",
    "        self.balance+=amount\n",
    "        print(f\"Amount of '{amount}' deposited successfully new balance is '{self.balance}' \")\n",
    "\n",
    "    def withdrawl(self,amount):\n",
    "        if amount>self.balance:\n",
    "            print(\"Insufficient amount in your bank account withdrawl failed try again later\")\n",
    "        else:\n",
    "            self.balance-=amount\n",
    "            print(f\"Amount of {amount} withdrawn successfully from your account remaining balance in yur account is '{self.balance}' \")\n",
    "        \n",
    "    def get_balance(self):\n",
    "        return self.balance\n",
    "    \n",
    "\n",
    "## creating an account\n",
    "\n",
    "account=BankAccount(\"Ganesh\",10000)\n",
    "\n",
    "account.deposit(2000)\n",
    "account.get_balance()\n",
    "\n",
    "account.withdrawl(2000)\n",
    "\n",
    "account.withdrawl(10000000)"
   ]
  },
  {
   "cell_type": "markdown",
   "id": "02379d6f",
   "metadata": {},
   "source": [
    "Inheritance in Python is a fundamental concept in object-oriented programming (OOP) that allows a class (child or derived class) to inherit attributes and methods from another class (parent or base class)"
   ]
  },
  {
   "cell_type": "markdown",
   "id": "1484d281",
   "metadata": {},
   "source": [
    "Single Inheritance\n"
   ]
  },
  {
   "cell_type": "code",
   "execution_count": 15,
   "id": "a3b1918f",
   "metadata": {},
   "outputs": [
    {
     "name": "stdout",
     "output_type": "stream",
     "text": [
      "The person name is 'Ganesh', and his/her hobby is 'cricket'\n",
      "The person name is 'Ganesh', and his/her hobby is 'cricket'\n",
      "The person name is 'Ganesh', his/her hobby is 'cricket', and his/her grade is '12th'\n"
     ]
    }
   ],
   "source": [
    "class Person:\n",
    "    def __init__(self, name, hobby):\n",
    "        self.name = name\n",
    "        self.hobby = hobby\n",
    "        print(f\"The person name is '{name}', and his/her hobby is '{hobby}'\")\n",
    "\n",
    "class Student(Person): \n",
    "    def __init__(self, name, hobby, grade):\n",
    "        super().__init__(name, hobby)  \n",
    "        self.grade = grade\n",
    "        print(f\"The person name is '{name}', his/her hobby is '{hobby}', and his/her grade is '{grade}'\")\n",
    "\n",
    "# Creating objects\n",
    "p1 = Person(\"Ganesh\", \"cricket\")\n",
    "p1 = Student(\"Ganesh\", \"cricket\", \"12th\")\n"
   ]
  },
  {
   "cell_type": "markdown",
   "id": "e16030e9",
   "metadata": {},
   "source": [
    "Multiple inhertance"
   ]
  },
  {
   "cell_type": "code",
   "execution_count": 17,
   "id": "c7a53c94",
   "metadata": {},
   "outputs": [
    {
     "name": "stdout",
     "output_type": "stream",
     "text": [
      "The person name is ganesh and the age is 22\n",
      "I m riding a car\n",
      "The person name is ganesh and the age is 22 and he is riding a car\n"
     ]
    }
   ],
   "source": [
    "class rider:\n",
    "    def __init__(self,owner,age):\n",
    "        self.owner=owner\n",
    "        self.age=age\n",
    "        print(f'The person name is {self.owner} and the age is {self.age}')\n",
    "\n",
    "class vechicle:\n",
    "    def __init__(self,vechicles):\n",
    "        self.vechicles=vechicles\n",
    "        print(f\"I m riding a {vechicles}\")\n",
    "\n",
    "class combine:\n",
    "    def __init__(self,owner,age,vechicles):\n",
    "        rider.__init__(self,owner,age)\n",
    "        vechicle.__init__(self,vechicles)\n",
    "        print(f'The person name is {self.owner} and the age is {self.age} and he is riding a {vechicles}')\n",
    "\n",
    "\n",
    "c1=combine(\"ganesh\",22,\"car\",)\n",
    "\n",
    "        "
   ]
  }
 ],
 "metadata": {
  "kernelspec": {
   "display_name": "Python 3",
   "language": "python",
   "name": "python3"
  },
  "language_info": {
   "codemirror_mode": {
    "name": "ipython",
    "version": 3
   },
   "file_extension": ".py",
   "mimetype": "text/x-python",
   "name": "python",
   "nbconvert_exporter": "python",
   "pygments_lexer": "ipython3",
   "version": "3.12.0"
  }
 },
 "nbformat": 4,
 "nbformat_minor": 5
}
