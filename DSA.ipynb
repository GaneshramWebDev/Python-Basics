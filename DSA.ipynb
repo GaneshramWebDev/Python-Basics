{
 "cells": [
  {
   "cell_type": "markdown",
   "id": "6d1e744a",
   "metadata": {},
   "source": [
    "DSA PYTHON\n"
   ]
  },
  {
   "cell_type": "markdown",
   "id": "a020edc8",
   "metadata": {},
   "source": [
    "LINEAR SEARCH"
   ]
  },
  {
   "cell_type": "code",
   "execution_count": 1,
   "id": "c8132ab2",
   "metadata": {},
   "outputs": [
    {
     "name": "stdout",
     "output_type": "stream",
     "text": [
      "3\n"
     ]
    }
   ],
   "source": [
    "def linear_search(arr,target):\n",
    "    for i in range(len(arr)):\n",
    "        if arr[i] == target:\n",
    "            return i\n",
    "    return -1\n",
    "\n",
    "\n",
    "arr=[1,2,50,90,70,100]\n",
    "result=linear_search(arr,90)\n",
    "print(result)"
   ]
  },
  {
   "cell_type": "markdown",
   "id": "165e4ccf",
   "metadata": {},
   "source": [
    "BINARY SEARCH\n"
   ]
  },
  {
   "cell_type": "code",
   "execution_count": 3,
   "id": "ba82083d",
   "metadata": {},
   "outputs": [
    {
     "name": "stdout",
     "output_type": "stream",
     "text": [
      "5\n"
     ]
    }
   ],
   "source": [
    "def binary_search(arr,target):\n",
    "    l=0\n",
    "    h=len(arr)-1\n",
    "\n",
    "    while l<=h:\n",
    "        mid=h+(l-h)//2\n",
    "        if arr[mid]==target:\n",
    "            return mid\n",
    "        elif target>arr[mid]:\n",
    "            l=mid+1\n",
    "        elif target<arr[mid]:\n",
    "            h=mid-1\n",
    "    return -1\n",
    "\n",
    "\n",
    "arr=[2,3,4,5,6,7,8]\n",
    "result=binary_search(arr,7)\n",
    "print(result)\n",
    "    \n"
   ]
  },
  {
   "cell_type": "markdown",
   "id": "de89bb87",
   "metadata": {},
   "source": [
    "BUBBLE SORT\n"
   ]
  },
  {
   "cell_type": "code",
   "execution_count": 4,
   "id": "06fd3faa",
   "metadata": {},
   "outputs": [
    {
     "name": "stdout",
     "output_type": "stream",
     "text": [
      "[1, 2, 3, 4, 5, 6]\n"
     ]
    }
   ],
   "source": [
    "def bubble_sort(arr):\n",
    "    n=len(arr)\n",
    "\n",
    "    for x in range(0,n):\n",
    "        swapped=False\n",
    "\n",
    "\n",
    "        for i in range(0,n-x-1):\n",
    "            if arr[i] > arr[i+1]:\n",
    "                arr[i],arr[i+1]=arr[i+1],arr[i]\n",
    "                swapped=True\n",
    "\n",
    "        if not swapped:\n",
    "            break\n",
    "    return arr\n",
    "\n",
    "arr=[2,4,6,3,1,5]\n",
    "print(bubble_sort(arr))\n"
   ]
  },
  {
   "cell_type": "markdown",
   "id": "95d984ed",
   "metadata": {},
   "source": [
    "SELECTION SORT"
   ]
  },
  {
   "cell_type": "code",
   "execution_count": 5,
   "id": "ffbc0c15",
   "metadata": {},
   "outputs": [
    {
     "name": "stdout",
     "output_type": "stream",
     "text": [
      "[2, 4, 5, 10, 20, 30]\n"
     ]
    }
   ],
   "source": [
    "def selection_sort(arr):\n",
    "    n=len(arr)-1\n",
    "\n",
    "    for pos in range(0,n):\n",
    "        min=pos\n",
    "\n",
    "        for i in range(pos+1,len(arr)):\n",
    "            if arr[i]<arr[min]:\n",
    "                min=i\n",
    "        arr[min],arr[pos]=arr[pos],arr[min]\n",
    "    \n",
    "    return arr\n",
    "\n",
    "\n",
    "arr=[5,20,30,10,4,2]\n",
    "print(selection_sort(arr))"
   ]
  }
 ],
 "metadata": {
  "kernelspec": {
   "display_name": "Python 3",
   "language": "python",
   "name": "python3"
  },
  "language_info": {
   "codemirror_mode": {
    "name": "ipython",
    "version": 3
   },
   "file_extension": ".py",
   "mimetype": "text/x-python",
   "name": "python",
   "nbconvert_exporter": "python",
   "pygments_lexer": "ipython3",
   "version": "3.12.0"
  }
 },
 "nbformat": 4,
 "nbformat_minor": 5
}
