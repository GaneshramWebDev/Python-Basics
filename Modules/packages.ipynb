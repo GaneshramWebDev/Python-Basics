{
 "cells": [
  {
   "cell_type": "markdown",
   "id": "d1458487",
   "metadata": {},
   "source": [
    "Importing packages\n"
   ]
  },
  {
   "cell_type": "code",
   "execution_count": null,
   "id": "7f675d22",
   "metadata": {},
   "outputs": [
    {
     "name": "stdout",
     "output_type": "stream",
     "text": [
      "3.141592653589793\n"
     ]
    }
   ],
   "source": [
    "from math import sqrt,pi\n",
    "sqrt(36)\n",
    "print(pi)\n",
    "\n",
    "\n"
   ]
  },
  {
   "cell_type": "code",
   "execution_count": 6,
   "id": "b0926f9c",
   "metadata": {},
   "outputs": [
    {
     "data": {
      "text/plain": [
       "array([1, 2, 3, 4, 5])"
      ]
     },
     "execution_count": 6,
     "metadata": {},
     "output_type": "execute_result"
    }
   ],
   "source": [
    "import numpy as np\n",
    "\n",
    "np.array([1,2,3,4,5])"
   ]
  },
  {
   "cell_type": "markdown",
   "id": "ef45e28b",
   "metadata": {},
   "source": [
    "Importing every module from packages\n"
   ]
  },
  {
   "cell_type": "code",
   "execution_count": 9,
   "id": "d715cdbd",
   "metadata": {},
   "outputs": [
    {
     "name": "stdout",
     "output_type": "stream",
     "text": [
      "5.0\n",
      "3.141592653589793\n"
     ]
    }
   ],
   "source": [
    "from math import *\n",
    "\n",
    "print(sqrt(25))\n",
    "print(pi)"
   ]
  },
  {
   "cell_type": "markdown",
   "id": "9b4077b1",
   "metadata": {},
   "source": [
    "Custom packages importing\n"
   ]
  },
  {
   "cell_type": "code",
   "execution_count": 1,
   "id": "63a6678c",
   "metadata": {},
   "outputs": [
    {
     "data": {
      "text/plain": [
       "7"
      ]
     },
     "execution_count": 1,
     "metadata": {},
     "output_type": "execute_result"
    }
   ],
   "source": [
    "from packages.maths import addition\n",
    "addition(5,2)"
   ]
  },
  {
   "cell_type": "code",
   "execution_count": 2,
   "id": "a2c6700d",
   "metadata": {},
   "outputs": [
    {
     "name": "stdout",
     "output_type": "stream",
     "text": [
      "3\n"
     ]
    }
   ],
   "source": [
    "import packages.maths\n",
    "\n",
    "print(packages.maths.subtract(5,2))"
   ]
  },
  {
   "cell_type": "markdown",
   "id": "6adadc82",
   "metadata": {},
   "source": [
    "Random\n"
   ]
  },
  {
   "cell_type": "code",
   "execution_count": 4,
   "id": "cd59f388",
   "metadata": {},
   "outputs": [
    {
     "name": "stdout",
     "output_type": "stream",
     "text": [
      "90\n",
      "banana\n"
     ]
    }
   ],
   "source": [
    "import random\n",
    "\n",
    "print(random.randint(1,100))\n",
    "print(random.choice(['apple',\"banana\",\"cherry\"]))"
   ]
  },
  {
   "cell_type": "markdown",
   "id": "f4d61dd3",
   "metadata": {},
   "source": [
    "File access"
   ]
  },
  {
   "cell_type": "code",
   "execution_count": 7,
   "id": "d0618b6c",
   "metadata": {},
   "outputs": [
    {
     "name": "stdout",
     "output_type": "stream",
     "text": [
      "d:\\Python Basics\\Modules\n"
     ]
    }
   ],
   "source": [
    "import os\n",
    "\n",
    "print(os.getcwd())\n",
    "os.mkdir(\"Test_dir\")"
   ]
  },
  {
   "cell_type": "markdown",
   "id": "4d09cf9a",
   "metadata": {},
   "source": [
    "High level operations\n"
   ]
  },
  {
   "cell_type": "code",
   "execution_count": 8,
   "id": "38fe1331",
   "metadata": {},
   "outputs": [
    {
     "data": {
      "text/plain": [
       "'Test_dir/Copied_orginal.txt'"
      ]
     },
     "execution_count": 8,
     "metadata": {},
     "output_type": "execute_result"
    }
   ],
   "source": [
    "import shutil\n",
    "\n",
    "source=\"Test_dir/Simple.txt\"\n",
    "destination=\"Test_dir/Copied_orginal.txt\"\n",
    "\n",
    "shutil.copy(source,destination)"
   ]
  },
  {
   "cell_type": "markdown",
   "id": "78e4b263",
   "metadata": {},
   "source": [
    "Json data "
   ]
  },
  {
   "cell_type": "code",
   "execution_count": 10,
   "id": "6eed4c93",
   "metadata": {},
   "outputs": [
    {
     "name": "stdout",
     "output_type": "stream",
     "text": [
      "{\"name\": \"Ganesh\", \"Age\": 21, \"IsMarried\": false}\n",
      "<class 'str'>\n",
      "{'name': 'Ganesh', 'Age': 21, 'IsMarried': False}\n",
      "<class 'dict'>\n"
     ]
    }
   ],
   "source": [
    "import json\n",
    "data={\"name\":\"Ganesh\",\"Age\":21,\"IsMarried\":False}\n",
    "json_str=json.dumps(data)\n",
    "print(json_str)\n",
    "print(type(json_str))\n",
    "\n",
    "parsed_data=json.loads(json_str)\n",
    "print(parsed_data)\n",
    "print(type(parsed_data))"
   ]
  },
  {
   "cell_type": "markdown",
   "id": "b63d92a9",
   "metadata": {},
   "source": [
    "CSV package\n"
   ]
  },
  {
   "cell_type": "code",
   "execution_count": 12,
   "id": "f7f265e6",
   "metadata": {},
   "outputs": [
    {
     "name": "stdout",
     "output_type": "stream",
     "text": [
      "['Name', 'Age']\n",
      "['Ganesh', '22']\n"
     ]
    }
   ],
   "source": [
    "import csv\n",
    "\n",
    "with open(\"example.csv\",mode=\"w\",newline=\"\") as file:\n",
    "    writer=csv.writer(file)\n",
    "    writer.writerow([\"Name\",\"Age\"])\n",
    "    writer.writerow([\"Ganesh\",\"22\"])\n",
    "\n",
    "\n",
    "with open(\"example.csv\",mode=\"r\")as file:\n",
    "    reader=csv.reader(file)\n",
    "    for row in reader:\n",
    "        print(row)\n",
    "\n",
    "\n",
    "\n"
   ]
  },
  {
   "cell_type": "markdown",
   "id": "219bb9c4",
   "metadata": {},
   "source": [
    "Datetime"
   ]
  },
  {
   "cell_type": "code",
   "execution_count": 15,
   "id": "94c66369",
   "metadata": {},
   "outputs": [
    {
     "name": "stdout",
     "output_type": "stream",
     "text": [
      "2025-05-27 20:22:08.990892\n",
      "2025-05-26 20:22:08.990892\n"
     ]
    }
   ],
   "source": [
    "from datetime import *\n",
    "\n",
    "now=datetime.now()\n",
    "print(now)\n",
    "\n",
    "yesterday=now-timedelta(days=1)\n",
    "print(yesterday)"
   ]
  },
  {
   "cell_type": "markdown",
   "id": "83a2142b",
   "metadata": {},
   "source": [
    "RE Package"
   ]
  },
  {
   "cell_type": "code",
   "execution_count": 28,
   "id": "7ac56798",
   "metadata": {},
   "outputs": [
    {
     "name": "stdout",
     "output_type": "stream",
     "text": [
      "nope\n",
      "<re.Match object; span=(0, 5), match='Hello'>\n",
      "['a', 'a', 'a']\n",
      "I love Cats\n",
      "False\n",
      "['My', 'name', 'is', 'ganesh', 'ram', 'and', 'i', 'luv', 'coding']\n",
      "False\n",
      "False\n"
     ]
    }
   ],
   "source": [
    "import re\n",
    "\n",
    "text=\"My name is ganesh ram and i luv coding\"\n",
    "result=re.search(\"Ganesh\",text)\n",
    "\n",
    "if(result):\n",
    "    print(\"found it\")\n",
    "else: print(\"nope\")\n",
    "\n",
    "\n",
    "print(re.match(\"Hello\",\"Hello world\"))\n",
    "\n",
    "\n",
    "print(re.findall(\"a\",\"Banana\"))\n",
    "\n",
    "text2=\"I love Dogs\"\n",
    "print(re.sub(\"Dogs\",\"Cats\",text2))\n",
    "\n",
    "\n",
    "##Patterns\n",
    "\n",
    "print(bool(re.findall(r\"\\d\",text)))\n",
    "print(re.findall(r\"\\w+\",text))\n",
    "print(bool(re.findall(r\"^ganesh\",text)))\n",
    "print(bool(re.findall(r\"/.$\",text)))\n"
   ]
  }
 ],
 "metadata": {
  "kernelspec": {
   "display_name": "Python 3",
   "language": "python",
   "name": "python3"
  },
  "language_info": {
   "codemirror_mode": {
    "name": "ipython",
    "version": 3
   },
   "file_extension": ".py",
   "mimetype": "text/x-python",
   "name": "python",
   "nbconvert_exporter": "python",
   "pygments_lexer": "ipython3",
   "version": "3.12.0"
  }
 },
 "nbformat": 4,
 "nbformat_minor": 5
}
