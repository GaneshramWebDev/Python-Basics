{
 "cells": [
  {
   "cell_type": "code",
   "execution_count": 1,
   "id": "658156c8",
   "metadata": {},
   "outputs": [
    {
     "name": "stdout",
     "output_type": "stream",
     "text": [
      "['Ganesh', 'Rajini', 'Kamal', 'Vijay']\n",
      "['Ajith', 'Rajini', 'Vijay']\n",
      "['Ajith', 'Rajini', 'Vijay', 'ravi', 'mohan', 'prabhas']\n",
      "6\n",
      "0\n",
      "['prabhas', 'mohan', 'ravi', 'Vijay', 'Rajini', 'Ajith']\n",
      "['Ajith', 'Rajini', 'Vijay', 'mohan', 'prabhas', 'ravi']\n",
      "['prabhas', 'mohan', 'ravi', 'Vijay', 'Rajini', 'Ajith', 'Vijay', 'Vijay']\n"
     ]
    },
    {
     "data": {
      "text/plain": [
       "3"
      ]
     },
     "execution_count": 1,
     "metadata": {},
     "output_type": "execute_result"
    }
   ],
   "source": [
    "#Lst\n",
    "my_lst=[\"Ganesh\",\"Rajini\",\"Kamal\"]\n",
    "my_lst.append(\"Vijay\")\n",
    "print(my_lst)\n",
    "\n",
    "my_lst.insert(0,\"Ajith\")\n",
    "my_lst.remove(\"Kamal\")\n",
    "my_lst.pop(1)\n",
    "print(my_lst)\n",
    "my_lst.extend([\"ravi\",\"mohan\",\"prabhas\"])\n",
    "print(my_lst)\n",
    "print(len(my_lst))\n",
    "print(my_lst.index(\"Ajith\"))\n",
    "my_lst.reverse()\n",
    "print(my_lst)\n",
    "print(sorted(my_lst))\n",
    "my_lst+=[\"Vijay\"]\n",
    "my_lst.append(\"Vijay\")\n",
    "print(my_lst)\n",
    "my_lst.count('Vijay')\n"
   ]
  },
  {
   "cell_type": "code",
   "execution_count": null,
   "id": "0447ed36",
   "metadata": {},
   "outputs": [],
   "source": [
    "##Sets\n",
    "\n",
    "my_Set1={\"Ganesh\",\"Ajith\",\"Vijay\"}\n",
    "my_Set2={\"Pradeep\",\"Surya\",\"Karthi\",\"Vijay\"}\n",
    "\n",
    "print(my_Set1 & my_Set2)\n",
    "print(my_Set1 | my_Set2)\n",
    "print(my_Set1-my_Set2)\n",
    "print(my_Set1 ^ my_Set2)\n",
    "\n",
    "my_Set1.add(\"XYX\")\n",
    "my_Set2.discard('Vijay')\n",
    "print(my_Set1)\n",
    "\n",
    "\n",
    "for_list=[1,1,1,2,2,2,3,4,5,6,7]\n",
    "cleaned=set(for_list)\n",
    "print(cleaned)\n",
    "print(list(cleaned))\n"
   ]
  },
  {
   "cell_type": "code",
   "execution_count": null,
   "id": "964e47a1",
   "metadata": {},
   "outputs": [],
   "source": [
    "##Dictionary\n",
    "\n",
    "person1={\"name\":\"Ganesh\",\"Age\":22,\"Role\":\"FullStack\"}\n",
    "\n",
    "print(person1.get(\"name\"))\n",
    "print(person1.keys())\n",
    "print(person1.values())\n",
    "print(person1.pop(\"Age\"))\n",
    "print(person1)\n",
    "\n",
    "for key,value in person1.items():\n",
    "    print(key, \":\", value)\n",
    "\n",
    "new_dict=person1.copy()\n",
    "\n",
    "person1.clear()\n",
    "print(new_dict)\n",
    "\n",
    "if \"name\" in new_dict:\n",
    "    print(\"yes name exists\")\n",
    "\n",
    "    dict1={\n",
    "    \"Name\":\"ganesh\",\n",
    "    \"age\":21,\n",
    "    \"contact\":{\n",
    "        \"email\":\"ganesh@example.com\"\n",
    "    }\n",
    "\n",
    "}\n",
    "\n",
    "dict2={\n",
    "    \"isMarried\":False,\n",
    "    \"contact\":{\n",
    "            \"Phone\":123456789\n",
    "    }\n",
    "}\n",
    "\n",
    "\n",
    "def deep_Merge(dict1,dict2):\n",
    "    for k,v in dict2.items():\n",
    "        if k in dict1 and isinstance(dict1[k],dict) and  isinstance(v,dict):\n",
    "            deep_Merge(dict1[k],v)\n",
    "        else:\n",
    "            dict1[k]=v\n",
    "\n",
    "deep_Merge(dict1,dict2)\n",
    "print(dict1)\n"
   ]
  },
  {
   "cell_type": "code",
   "execution_count": null,
   "id": "7143fc29",
   "metadata": {},
   "outputs": [
    {
     "name": "stdout",
     "output_type": "stream",
     "text": [
      "4\n",
      "0\n",
      "1\n",
      "8\n",
      "1\n",
      "36\n",
      "('apple', 'orange', 'cherry', 'pineapple', 1, 2, 3, 4, 5, 6, 7, 8)\n"
     ]
    }
   ],
   "source": [
    "##Tuples\n",
    "\n",
    "my_tuple=(\"apple\",\"orange\",\"cherry\",\"pineapple\")\n",
    "my_nums=(1,2,3,4,5,6,7,8)\n",
    "\n",
    "print(len(my_tuple))\n",
    "print(my_tuple.index(\"apple\"))\n",
    "print(my_tuple.count(\"orange\"))\n",
    "print(max(my_nums))\n",
    "print(min(my_nums))\n",
    "print(sum(my_nums))\n",
    "combined=my_tuple+my_nums\n",
    "print(combined)\n",
    "\n"
   ]
  },
  {
   "cell_type": "code",
   "execution_count": 10,
   "id": "ae1cbb9d",
   "metadata": {},
   "outputs": [
    {
     "name": "stdout",
     "output_type": "stream",
     "text": [
      "['ganesh', 'ram']\n",
      "<class 'tuple'>\n",
      "ganesh ram\n",
      "Ganesh ram\n",
      "<class 'str'>\n",
      "ganesh rams\n",
      "g\n",
      "smar hsenag\n",
      "gns as\n",
      "ganesh\n",
      "ganesh\n",
      "ne\n"
     ]
    }
   ],
   "source": [
    "##string methods\n",
    "\n",
    "text=\"       ganesh ram \"\n",
    "text\n",
    "\n",
    "text=text.split()\n",
    "print(text)\n",
    "\n",
    "# text=\" \".join(text)\n",
    "# print(text)\n",
    "\n",
    "text=tuple(text)\n",
    "print(type(text))\n",
    "text=\" \".join(text)\n",
    "print(text)\n",
    "\n",
    "text=text.capitalize()\n",
    "print(text)\n",
    "text=text.strip()\n",
    "\n",
    "text=text.upper()\n",
    "\n",
    "\n",
    "print(type(text))\n",
    "text=text.lower()\n",
    "text=text.replace(\"ram\",\"rams\")\n",
    "print(text)\n",
    "print(text[0])\n",
    "\n",
    "print(text[::-1])\n",
    "print(text[::2])\n",
    "print(text[0:6])\n",
    "print(text[:6])\n",
    "print(text[2:4])\n"
   ]
  }
 ],
 "metadata": {
  "kernelspec": {
   "display_name": "Python 3",
   "language": "python",
   "name": "python3"
  },
  "language_info": {
   "codemirror_mode": {
    "name": "ipython",
    "version": 3
   },
   "file_extension": ".py",
   "mimetype": "text/x-python",
   "name": "python",
   "nbconvert_exporter": "python",
   "pygments_lexer": "ipython3",
   "version": "3.12.0"
  }
 },
 "nbformat": 4,
 "nbformat_minor": 5
}
