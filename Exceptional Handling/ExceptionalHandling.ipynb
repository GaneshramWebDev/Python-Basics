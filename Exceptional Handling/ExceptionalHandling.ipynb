{
 "cells": [
  {
   "cell_type": "markdown",
   "id": "9919ea80",
   "metadata": {},
   "source": [
    "Exceptions are events that distrub the normal flow of a program.They occur when the error is encountered during program execution"
   ]
  },
  {
   "cell_type": "code",
   "execution_count": 1,
   "id": "1cfd7fc8",
   "metadata": {},
   "outputs": [
    {
     "name": "stdout",
     "output_type": "stream",
     "text": [
      "The variable is not assigned\n"
     ]
    }
   ],
   "source": [
    "##Exceptional Handling try,except block\n",
    "\n",
    "try:\n",
    "    a=b\n",
    "    ##the error will be b is not defined\n",
    "except:\n",
    "    ##Custom error messge(error caught here)\n",
    "    print(\"The variable is not assigned\")\n"
   ]
  },
  {
   "cell_type": "code",
   "execution_count": 3,
   "id": "a9e007d8",
   "metadata": {},
   "outputs": [
    {
     "name": "stdout",
     "output_type": "stream",
     "text": [
      "name 'b' is not defined\n",
      "division by zero\n",
      "please enter a denominator graeter than 0\n"
     ]
    }
   ],
   "source": [
    "##If i know what error it is showing\n",
    "\n",
    "try:\n",
    "    a=b\n",
    "except NameError as ex:\n",
    "    print(ex)\n",
    "\n",
    "\n",
    "try:\n",
    "    1/0\n",
    "except ZeroDivisionError as ex:\n",
    "    print(ex)\n",
    "    print(\"please enter a denominator graeter than 0\")"
   ]
  },
  {
   "cell_type": "code",
   "execution_count": 5,
   "id": "9a902a55",
   "metadata": {},
   "outputs": [
    {
     "name": "stdout",
     "output_type": "stream",
     "text": [
      "name 'b' is not defined\n"
     ]
    }
   ],
   "source": [
    "##What if i dont know what error it throws\n",
    "\n",
    "try:\n",
    "    1/2\n",
    "    a=b\n",
    "except ZeroDivisionError as ex:\n",
    "    print(ex)\n",
    "    print(\"please enter a denominator graeter than 0\")\n",
    "except Exception as ex1:\n",
    "    print(ex1)\n"
   ]
  },
  {
   "cell_type": "code",
   "execution_count": null,
   "id": "da869a52",
   "metadata": {},
   "outputs": [
    {
     "name": "stdout",
     "output_type": "stream",
     "text": [
      "name 'b' is not defined\n",
      "The result is '1.0'\n",
      "The result is '1.0'\n",
      "Execution completed\n"
     ]
    }
   ],
   "source": [
    "try:\n",
    "    a=b\n",
    "    1/2\n",
    "except Exception as ex:\n",
    "    print(ex)\n",
    "\n",
    "\n",
    "\n",
    "try:\n",
    "    num=int(input(\"Enter a number\"))\n",
    "    result=10/num\n",
    "\n",
    "except ValueError:\n",
    "    print(\"Enter only number\")\n",
    "\n",
    "except ZeroDivisionError as ex:\n",
    "    print(ex)\n",
    "\n",
    "else:\n",
    "    print(f\"The result is '{result}'\")\n",
    "    ##Else is used here if there is no error and try block executed successfully the else statement will run the code\n",
    "\n",
    "\n",
    "try:\n",
    "    num=int(input(\"Enter a number\"))\n",
    "    result=10/num\n",
    "\n",
    "except ValueError:\n",
    "    print(\"Enter only number\")\n",
    "\n",
    "except ZeroDivisionError as ex:\n",
    "    print(ex)\n",
    "\n",
    "else:\n",
    "    print(f\"The result is '{result}'\")\n",
    "\n",
    "finally:\n",
    "    print(\"Execution completed\")\n",
    "    ## finally is nothing even there is error or code run success this block will get excuted not matter what\n",
    "\n"
   ]
  },
  {
   "cell_type": "code",
   "execution_count": 19,
   "id": "99583cc2",
   "metadata": {},
   "outputs": [
    {
     "name": "stdout",
     "output_type": "stream",
     "text": [
      "Folder created successfully Ganeshramfolder\n",
      "File 'hello.txt' created and content written\n",
      "Hi hello world this is ganesh ram\n",
      "file already closed\n"
     ]
    }
   ],
   "source": [
    "##with file handling\n",
    "import os\n",
    "def example(folder,filename,text):\n",
    "    try:\n",
    "        if not os.path.exists(folder):\n",
    "            os.makedirs(folder)\n",
    "            print(\"Folder created successfully\",folder)\n",
    "        else:\n",
    "            print(\"folder not completed successfuly\")\n",
    "\n",
    "        full_path=os.path.join(folder,filename)\n",
    "\n",
    "        with open(full_path,\"w\")as file:\n",
    "            file.write(text)\n",
    "            file.close()\n",
    "            print(f\"File '{filename}' created and content written\")\n",
    "\n",
    "        with open(full_path,\"r\")as file:\n",
    "            print(file.read())\n",
    "        \n",
    "\n",
    "    except FileNotFoundError:\n",
    "        print(\"❌ Error: File or folder not found!\")\n",
    "\n",
    "    except Exception as e:\n",
    "            print(\"Unexpected error\",e)\n",
    "\n",
    "    finally:\n",
    "            if \"file\" in locals():\n",
    "                if not file.closed:\n",
    "                    file.close()\n",
    "                    print(\"file closed successfully\")\n",
    "                else:\n",
    "                    print(\"file already closed\")\n",
    "            else:\n",
    "                print(\"File variable never created\")\n",
    "\n",
    "folder=\"Ganeshramfolder\"\n",
    "file=\"hello.txt\"\n",
    "text=\"Hi hello world this is ganesh ram\"\n",
    "\n",
    "\n",
    "example(folder,file,text)\n"
   ]
  }
 ],
 "metadata": {
  "kernelspec": {
   "display_name": "Python 3",
   "language": "python",
   "name": "python3"
  },
  "language_info": {
   "codemirror_mode": {
    "name": "ipython",
    "version": 3
   },
   "file_extension": ".py",
   "mimetype": "text/x-python",
   "name": "python",
   "nbconvert_exporter": "python",
   "pygments_lexer": "ipython3",
   "version": "3.12.0"
  }
 },
 "nbformat": 4,
 "nbformat_minor": 5
}
