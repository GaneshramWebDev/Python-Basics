{
 "cells": [
  {
   "cell_type": "markdown",
   "id": "fec220ab",
   "metadata": {},
   "source": [
    "File Handling"
   ]
  },
  {
   "cell_type": "code",
   "execution_count": 4,
   "id": "42daf59e",
   "metadata": {},
   "outputs": [
    {
     "name": "stdout",
     "output_type": "stream",
     "text": [
      "hi i am ganesh ram i am python beginner learning it now\n",
      "\n"
     ]
    }
   ],
   "source": [
    "with open(\"Simple.txt\",\"r\") as file:\n",
    "    content=file.read()\n",
    "    print(content)\n"
   ]
  },
  {
   "cell_type": "code",
   "execution_count": 6,
   "id": "efd77d83",
   "metadata": {},
   "outputs": [
    {
     "name": "stdout",
     "output_type": "stream",
     "text": [
      "hi i am ganesh ram i am python beginner learning it now\n"
     ]
    }
   ],
   "source": [
    "##Read a file line by line\n",
    "\n",
    "with open(\"Simple.txt\",\"r\") as file:\n",
    "    for line in file:\n",
    "        print(line.strip())"
   ]
  },
  {
   "cell_type": "code",
   "execution_count": 9,
   "id": "b865113e",
   "metadata": {},
   "outputs": [
    {
     "name": "stdout",
     "output_type": "stream",
     "text": [
      "33\n"
     ]
    }
   ],
   "source": [
    "##overwritting a file\n",
    "\n",
    "with open(\"Simple.txt\",\"w\") as file:\n",
    "    writer=file.write(\"Hello world\\nmy name is ganesh ram\")\n",
    "    print(writer)\n"
   ]
  },
  {
   "cell_type": "code",
   "execution_count": 15,
   "id": "55559bdb",
   "metadata": {},
   "outputs": [],
   "source": [
    "##writing a file without overwriting\n",
    "\n",
    "with open(\"Simple.txt\",\"a\") as file:\n",
    "    file.write(\"\\nhey see i m writing a file without overwriting the existing file\")\n"
   ]
  },
  {
   "cell_type": "code",
   "execution_count": 16,
   "id": "3f33ee51",
   "metadata": {},
   "outputs": [],
   "source": [
    "##Reading the content from source text and write to a new destination file txt\n",
    "\n",
    "with open(\"Simple.txt\",\"r\")as file:\n",
    "    contents=file.read()\n",
    "\n",
    "with open(\"Destination.txt\",\"w\") as destination_file:\n",
    "    destination_file.write(contents)\n"
   ]
  },
  {
   "cell_type": "markdown",
   "id": "b0a480ca",
   "metadata": {},
   "source": [
    "In Python file handling, the w+ mode is used when opening a file for both writing and reading."
   ]
  },
  {
   "cell_type": "code",
   "execution_count": 4,
   "id": "5debcf2a",
   "metadata": {},
   "outputs": [
    {
     "name": "stdout",
     "output_type": "stream",
     "text": [
      "Hi i am learning new things everyday\n",
      "It is intresting and want to explore more\n"
     ]
    }
   ],
   "source": [
    "with open(\"Simple.txt\",\"w+\")as file:\n",
    "    file.write(\"Hi i am learning new things everyday\")\n",
    "    file.write(\"\\nIt is intresting and want to explore more\")\n",
    "\n",
    "    file.seek(0)\n",
    "\n",
    "    content=file.read()\n",
    "print(content)\n"
   ]
  },
  {
   "cell_type": "markdown",
   "id": "98f391e3",
   "metadata": {},
   "source": [
    "Creating a new directory\n"
   ]
  },
  {
   "cell_type": "code",
   "execution_count": 5,
   "id": "51fcb2e9",
   "metadata": {},
   "outputs": [
    {
     "name": "stdout",
     "output_type": "stream",
     "text": [
      "Directory 'Package' created\n"
     ]
    }
   ],
   "source": [
    "import os\n",
    "new_directory=\"Package\"\n",
    "os.mkdir(new_directory)\n",
    "print(f\"Directory '{new_directory}' created\")"
   ]
  },
  {
   "cell_type": "markdown",
   "id": "470e7fd9",
   "metadata": {},
   "source": [
    "Listing Files and directories"
   ]
  },
  {
   "cell_type": "code",
   "execution_count": 10,
   "id": "d498e06f",
   "metadata": {},
   "outputs": [
    {
     "name": "stdout",
     "output_type": "stream",
     "text": [
      "['Destination.txt', 'FileOperation.ipynb', 'my_folder', 'Package', 'path', 'Simple.txt']\n",
      "Hey look i joined paths and created a file and wrote a few lines about it\n"
     ]
    }
   ],
   "source": [
    "items=os.listdir(\".\")\n",
    "print(items)\n",
    "\n",
    "## path.join + craeting directories and writing txt\n",
    "\n",
    "folder=\"my_folder\"\n",
    "file=\"new_file.txt\"\n",
    "\n",
    "os.makedirs(folder,exist_ok=True)\n",
    "\n",
    "path=os.path.join(folder,file)\n",
    "\n",
    "with open(path,\"w+\") as file:\n",
    "   writer=file.write(\"Hey look i joined paths and created a file and wrote a few lines about it\")\n",
    "\n",
    "   file.seek(0)\n",
    "   content=file.read()\n",
    "   print(content)\n",
    "\n"
   ]
  },
  {
   "cell_type": "markdown",
   "id": "79bbf371",
   "metadata": {},
   "source": [
    "Check if a path,file or dir exists"
   ]
  },
  {
   "cell_type": "code",
   "execution_count": 17,
   "id": "4dcc971c",
   "metadata": {},
   "outputs": [
    {
     "name": "stdout",
     "output_type": "stream",
     "text": [
      "The path new_file.txt does not exist\n",
      "The path Destination.txt is a file\n",
      "Items in root folder\n",
      "[File]   Destination.txt\n",
      "[File]   FileOperation.ipynb\n",
      "[Folder] my_folder\n",
      "[Folder] Package\n",
      "[File]   Simple.txt\n",
      "✅ The path 'my_folder/new_file.txt' exists.\n",
      "📄 It is a file.\n"
     ]
    }
   ],
   "source": [
    "path=\"new_file.txt\"\n",
    "if os.path.exists(path):\n",
    "    print(f\"The path {path} is there\")\n",
    "else:\n",
    "    print(f\"The path {path} does not exist\")\n",
    "\n",
    "\n",
    "path2=\"Destination.txt\"\n",
    "if os.path.isfile(path2):\n",
    "    print(f\"The path {path2} is a file\")\n",
    "elif os.path.isdir(path2):\n",
    "    print(f'The path {path2} is a dir ')\n",
    "else:\n",
    "    print(\"It is not a file or dir it is something else\")\n",
    "\n",
    "\n",
    "root=\".\"\n",
    "items=os.listdir(root)\n",
    "print('Items in root folder')\n",
    "\n",
    "for item in items:\n",
    "    full_path = os.path.join(root, item)  # Get full path\n",
    "    if os.path.isdir(full_path):\n",
    "        print(f\"[Folder] {item}\")\n",
    "    elif os.path.isfile(full_path):\n",
    "        print(f\"[File]   {item}\")\n",
    "    else:\n",
    "        print(f\"[Other]  {item}\")\n",
    "\n",
    "\n",
    "root2=\".\"\n",
    "target=\"my_folder/new_file.txt\"\n",
    "\n",
    "full_path=os.path.join(root,target)\n",
    "\n",
    "if os.path.exists(full_path):\n",
    "    print(f\"✅ The path '{target}' exists.\")\n",
    "    if os.path.isfile(full_path):\n",
    "        print(\"📄 It is a file.\")\n",
    "    elif os.path.isdir(full_path):\n",
    "        print(\"📁 It is a directory.\")\n",
    "    else:\n",
    "        print(\"🔹 It's something else.\")\n",
    "else:\n",
    "    print(f\"❌ The path '{target}' does NOT exist.\")\n"
   ]
  }
 ],
 "metadata": {
  "kernelspec": {
   "display_name": "Python 3",
   "language": "python",
   "name": "python3"
  },
  "language_info": {
   "codemirror_mode": {
    "name": "ipython",
    "version": 3
   },
   "file_extension": ".py",
   "mimetype": "text/x-python",
   "name": "python",
   "nbconvert_exporter": "python",
   "pygments_lexer": "ipython3",
   "version": "3.12.0"
  }
 },
 "nbformat": 4,
 "nbformat_minor": 5
}
